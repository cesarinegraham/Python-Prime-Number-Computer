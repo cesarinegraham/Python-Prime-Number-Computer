{
 "cells": [
  {
   "cell_type": "code",
   "execution_count": 1,
   "id": "3617c4c5",
   "metadata": {},
   "outputs": [],
   "source": [
    "#importing the necessary modules\n",
    "import numpy as np\n",
    "import matplotlib.pyplot as plt\n",
    "from scipy.optimize import curve_fit\n",
    "%matplotlib inline\n",
    "import math\n",
    "import pandas as pd"
   ]
  },
  {
   "cell_type": "markdown",
   "id": "e682b1a2",
   "metadata": {},
   "source": [
    "# Importing and Manipulating Data #\n",
    "\n",
    "### Due to the limited computational ability of my computer and this program, we are only going to be analyzing the first 100 sequential numbers and prime numbers. For this, we will need to mask the data."
   ]
  },
  {
   "cell_type": "code",
   "execution_count": 2,
   "id": "dac5e201",
   "metadata": {},
   "outputs": [],
   "source": [
    "column_names=['Sequential_Rank', 'Prime_Number', 'Interval_from_Previous_Prime'] #column names to be added\n",
    "full_prime_data=pd.DataFrame(columns=column_names) #creating dataframe by assigning column names\n",
    "\n",
    "#reading the csv file\n",
    "prime_data = pd.read_csv(\"P1000.csv\", skiprows=0, delimiter=',', names = column_names)\n",
    "prime_data.columns = column_names #adding column names to dataframe\n",
    "prime_data = prime_data.dropna(axis=\"columns\", how=\"all\") #drop empty columns\n",
    "prime_data = prime_data.dropna() #drop rows with NaNs"
   ]
  },
  {
   "cell_type": "code",
   "execution_count": 3,
   "id": "87502945",
   "metadata": {},
   "outputs": [
    {
     "data": {
      "text/html": [
       "<div>\n",
       "<style scoped>\n",
       "    .dataframe tbody tr th:only-of-type {\n",
       "        vertical-align: middle;\n",
       "    }\n",
       "\n",
       "    .dataframe tbody tr th {\n",
       "        vertical-align: top;\n",
       "    }\n",
       "\n",
       "    .dataframe thead th {\n",
       "        text-align: right;\n",
       "    }\n",
       "</style>\n",
       "<table border=\"1\" class=\"dataframe\">\n",
       "  <thead>\n",
       "    <tr style=\"text-align: right;\">\n",
       "      <th></th>\n",
       "      <th>Sequential_Rank</th>\n",
       "      <th>Prime_Number</th>\n",
       "      <th>Interval_from_Previous_Prime</th>\n",
       "    </tr>\n",
       "  </thead>\n",
       "  <tbody>\n",
       "    <tr>\n",
       "      <th>count</th>\n",
       "      <td>1000.000000</td>\n",
       "      <td>1000.000000</td>\n",
       "      <td>1000.000000</td>\n",
       "    </tr>\n",
       "    <tr>\n",
       "      <th>mean</th>\n",
       "      <td>500.500000</td>\n",
       "      <td>3682.913000</td>\n",
       "      <td>7.919000</td>\n",
       "    </tr>\n",
       "    <tr>\n",
       "      <th>std</th>\n",
       "      <td>288.819436</td>\n",
       "      <td>2344.091671</td>\n",
       "      <td>5.726363</td>\n",
       "    </tr>\n",
       "    <tr>\n",
       "      <th>min</th>\n",
       "      <td>1.000000</td>\n",
       "      <td>2.000000</td>\n",
       "      <td>1.000000</td>\n",
       "    </tr>\n",
       "    <tr>\n",
       "      <th>25%</th>\n",
       "      <td>250.750000</td>\n",
       "      <td>1593.500000</td>\n",
       "      <td>4.000000</td>\n",
       "    </tr>\n",
       "    <tr>\n",
       "      <th>50%</th>\n",
       "      <td>500.500000</td>\n",
       "      <td>3576.000000</td>\n",
       "      <td>6.000000</td>\n",
       "    </tr>\n",
       "    <tr>\n",
       "      <th>75%</th>\n",
       "      <td>750.250000</td>\n",
       "      <td>5695.000000</td>\n",
       "      <td>10.000000</td>\n",
       "    </tr>\n",
       "    <tr>\n",
       "      <th>max</th>\n",
       "      <td>1000.000000</td>\n",
       "      <td>7919.000000</td>\n",
       "      <td>34.000000</td>\n",
       "    </tr>\n",
       "  </tbody>\n",
       "</table>\n",
       "</div>"
      ],
      "text/plain": [
       "       Sequential_Rank  Prime_Number  Interval_from_Previous_Prime\n",
       "count      1000.000000   1000.000000                   1000.000000\n",
       "mean        500.500000   3682.913000                      7.919000\n",
       "std         288.819436   2344.091671                      5.726363\n",
       "min           1.000000      2.000000                      1.000000\n",
       "25%         250.750000   1593.500000                      4.000000\n",
       "50%         500.500000   3576.000000                      6.000000\n",
       "75%         750.250000   5695.000000                     10.000000\n",
       "max        1000.000000   7919.000000                     34.000000"
      ]
     },
     "execution_count": 3,
     "metadata": {},
     "output_type": "execute_result"
    }
   ],
   "source": [
    "prime_data.head()\n",
    "prime_data.describe()"
   ]
  },
  {
   "cell_type": "code",
   "execution_count": 4,
   "id": "0e565602",
   "metadata": {},
   "outputs": [],
   "source": [
    "#assigning variables to the columns\n",
    "sequence = prime_data['Sequential_Rank']\n",
    "primes = prime_data['Prime_Number']\n",
    "intervals = prime_data['Interval_from_Previous_Prime']\n",
    "\n",
    "#masking the data to only show the first 100 sequential numbers\n",
    "mask = sequence <= 100\n",
    "sequence_data_100 = sequence[mask]\n",
    "\n",
    "#masking the data to only show the first 100 primes\n",
    "mask = sequence <= 100\n",
    "prime_data_100 = primes[mask]"
   ]
  },
  {
   "cell_type": "markdown",
   "id": "6f246fe0",
   "metadata": {},
   "source": [
    "# Plotting the Data #\n",
    "\n",
    "### We are plotting the overall trendlines of the sequential numbers vs. sequential numbers, and prime numbers vs. sequential numbers."
   ]
  },
  {
   "cell_type": "code",
   "execution_count": 5,
   "id": "067a2460",
   "metadata": {},
   "outputs": [
    {
     "data": {
      "image/png": "[encoded data removed]",
      "text/plain": [
       "<Figure size 1152x576 with 1 Axes>"
      ]
     },
     "metadata": {
      "needs_background": "light"
     },
     "output_type": "display_data"
    }
   ],
   "source": [
    "#plotting the data\n",
    "plt.rcParams.update({'font.size': 20}) #changing the font size\n",
    "plt.rcParams[\"font.family\"] = \"serif\" #chaning the font\n",
    "plt.figure(figsize=(16,8))\n",
    "plt.scatter(prime_data_100, sequence_data_100, color=\"darkgreen\", label = \"primes\")\n",
    "plt.scatter(sequence_data_100,sequence_data_100, color = \"firebrick\", label = \"sequential\")\n",
    "plt.xlabel(\"Prime Number\")\n",
    "plt.ylabel(\"Sequential Numbers (Normal Counting)\")\n",
    "plt.title(\"Prime Numbers vs Sequential Numbers\")\n",
    "plt.legend()\n",
    "plt.grid()\n",
    "plt.tight_layout()"
   ]
  },
  {
   "cell_type": "markdown",
   "id": "c4b5c800",
   "metadata": {},
   "source": [
    "# Willan's Formula \n",
    "\n",
    "### This formula determines the prime numbers from 1 to an arbitrary integer, n. For this program, n will be no greater than 100. However, a RAM overflow occurs after 7 iterations."
   ]
  },
  {
   "cell_type": "code",
   "execution_count": 6,
   "id": "c4cf22e9",
   "metadata": {},
   "outputs": [],
   "source": [
    "#the function that will define willan's formula\n",
    "def willans_formula(n):\n",
    "    willans_output = []\n",
    "    for i in range(2**n):\n",
    "        inner_sum = np.sum(\n",
    "                (np.floor(np.cos((np.pi)*(np.math.factorial(j-1))+1)/(j))**2)\n",
    "                for j in range(i+1))\n",
    "        outer_sum = sum(np.floor((n/inner_sum)**(1/n))\n",
    "                       for i in range(2**n))\n",
    "        \n",
    "        output = outer_sum + 1\n",
    "        willans_output.append(output)\n",
    "    return willans_output"
   ]
  },
  {
   "cell_type": "code",
   "execution_count": 7,
   "id": "c8b52299",
   "metadata": {
    "scrolled": true
   },
   "outputs": [
    {
     "data": {
      "text/html": [
       "<img src=\"formula_for_primes.png\" width=\"550\" height=\"500\"/>"
      ],
      "text/plain": [
       "<IPython.core.display.Image object>"
      ]
     },
     "execution_count": 7,
     "metadata": {},
     "output_type": "execute_result"
    }
   ],
   "source": [
    "from IPython.display import Image\n",
    "Image(url=\"formula_for_primes.png\", width=550, height=500)"
   ]
  },
  {
   "cell_type": "code",
   "execution_count": 8,
   "id": "5aa7459d",
   "metadata": {},
   "outputs": [],
   "source": [
    "def inner_sum(i):\n",
    "    element_list = []\n",
    "    for index in range(1,1+i):\n",
    "        element_list.append(np.floor((np.cos(np.pi*((np.math.factorial(index-1)+1)/index)))**2))\n",
    "    return np.sum(element_list)"
   ]
  },
  {
   "cell_type": "code",
   "execution_count": 9,
   "id": "e0f521a8",
   "metadata": {},
   "outputs": [],
   "source": [
    "def outer_sum(n):\n",
    "    element_list = []\n",
    "    for index in range(1,2**n+1):\n",
    "        #print(index)\n",
    "        #print(inner_sum(index))\n",
    "        element_list.append(np.floor((n/inner_sum(index))**(1/n)))\n",
    "        #print(element_list)\n",
    "    return np.sum(element_list)"
   ]
  },
  {
   "cell_type": "code",
   "execution_count": 14,
   "id": "e5dd6091",
   "metadata": {
    "scrolled": false
   },
   "outputs": [
    {
     "name": "stdout",
     "output_type": "stream",
     "text": [
      "2.0\n",
      "3.0\n",
      "5.0\n",
      "7.0\n",
      "11.0\n",
      "13.0\n"
     ]
    }
   ],
   "source": [
    "n = 1\n",
    "while n <= 6:\n",
    "    print(1+outer_sum(n))\n",
    "    n+=1\n",
    "    "
   ]
  },
  {
   "cell_type": "markdown",
   "id": "7e666fae",
   "metadata": {},
   "source": [
    "# Simplified Model of Willan's Formula: \n",
    "\n",
    "### This formula calculates the amount of prime numbers exist between 1 and an arbitrary integer, n. It is a simplified version of Willan's Formula (1964). This formula can successfully run up to n=100 iterations."
   ]
  },
  {
   "cell_type": "code",
   "execution_count": 11,
   "id": "186dedb3",
   "metadata": {},
   "outputs": [
    {
     "data": {
      "text/html": [
       "<img src=\"simplified_willans_formula.jpg\" width=\"550\" height=\"500\"/>"
      ],
      "text/plain": [
       "<IPython.core.display.Image object>"
      ]
     },
     "execution_count": 11,
     "metadata": {},
     "output_type": "execute_result"
    }
   ],
   "source": [
    "from IPython.display import Image\n",
    "Image(url=\"simplified_willans_formula.jpg\", width=550, height=500)"
   ]
  },
  {
   "cell_type": "code",
   "execution_count": 12,
   "id": "47013008",
   "metadata": {},
   "outputs": [],
   "source": [
    "#the function that will define the simplified version of willan's formula\n",
    "\n",
    "def simplified_willans_formula(n):\n",
    "    k=1\n",
    "    for k in range(n-1):\n",
    "        summation = np.sum(\n",
    "            (np.cos(((np.math.factorial(k)-k)*np.pi)/(2*(k+1)))))\n",
    "        inner_function = 0.5*((n-1)+summation)\n",
    "        output = np.floor(inner_function)\n",
    "                \n",
    "    return output"
   ]
  },
  {
   "cell_type": "code",
   "execution_count": 13,
   "id": "af973fc5",
   "metadata": {},
   "outputs": [
    {
     "name": "stdout",
     "output_type": "stream",
     "text": [
      "there are 49.0 prime numbers between 1 and 100\n"
     ]
    }
   ],
   "source": [
    "#running the function and assigning the values to a blank array\n",
    "n = 100\n",
    "    \n",
    "output = simplified_willans_formula(n)\n",
    "print(\"there are \" + str(output) + \" prime numbers between 1 and \" + str(n) )"
   ]
  }
 ],
 "metadata": {
  "kernelspec": {
   "display_name": "Python 3 (ipykernel)",
   "language": "python",
   "name": "python3"
  },
  "language_info": {
   "codemirror_mode": {
    "name": "ipython",
    "version": 3
   },
   "file_extension": ".py",
   "mimetype": "text/x-python",
   "name": "python",
   "nbconvert_exporter": "python",
   "pygments_lexer": "ipython3",
   "version": "3.9.13"
  }
 },
 "nbformat": 4,
 "nbformat_minor": 5
}
